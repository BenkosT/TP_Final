{
 "cells": [
  {
   "cell_type": "code",
   "execution_count": 2,
   "id": "d6dea425",
   "metadata": {},
   "outputs": [],
   "source": [
    "import pandas as pd\n",
    "import numpy as np\n",
    "import seaborn as sns\n",
    "import matplotlib.pyplot as plt\n",
    "#from pandas_profiling import ProfileReport\n",
    "import warnings\n",
    "warnings.filterwarnings(\"ignore\")"
   ]
  },
  {
   "cell_type": "code",
   "execution_count": 3,
   "id": "d83f1b27",
   "metadata": {},
   "outputs": [],
   "source": [
    "from sklearn.model_selection import train_test_split"
   ]
  },
  {
   "cell_type": "markdown",
   "id": "9d23d426",
   "metadata": {},
   "source": [
    "Features\n",
    "\n",
    "* enrollee_id : Unique ID for candidate\n",
    "* city: City code\n",
    "* city_ development _index : Developement index of the city (scaled)\n",
    "* gender: Gender of candidate\n",
    "* relevent_experience: Relevant experience of candidate\n",
    "* enrolled_university: Type of University course enrolled if any\n",
    "* education_level: Education level of candidate\n",
    "* major_discipline :Education major discipline of candidate\n",
    "* experience: Candidate total experience in years\n",
    "* company_size: No of employees in current employer's company\n",
    "* company_type : Type of current employer\n",
    "* lastnewjob: Difference in years between previous job and current job\n",
    "* training_hours: training hours completed\n",
    "* target: 0 – Not looking for job change, 1 – Looking for a job change"
   ]
  },
  {
   "cell_type": "code",
   "execution_count": 7,
   "id": "bdd06150",
   "metadata": {},
   "outputs": [],
   "source": [
    "# Se importa el dataframe\n",
    "key = \"aug.csv\"\n",
    "path = \"../../archive/\"\n",
    "\n",
    "data = pd.read_csv (path + key)"
   ]
  },
  {
   "cell_type": "code",
   "execution_count": 8,
   "id": "9d4c133d",
   "metadata": {},
   "outputs": [
    {
     "data": {
      "text/html": [
       "<div>\n",
       "<style scoped>\n",
       "    .dataframe tbody tr th:only-of-type {\n",
       "        vertical-align: middle;\n",
       "    }\n",
       "\n",
       "    .dataframe tbody tr th {\n",
       "        vertical-align: top;\n",
       "    }\n",
       "\n",
       "    .dataframe thead th {\n",
       "        text-align: right;\n",
       "    }\n",
       "</style>\n",
       "<table border=\"1\" class=\"dataframe\">\n",
       "  <thead>\n",
       "    <tr style=\"text-align: right;\">\n",
       "      <th></th>\n",
       "      <th>enrollee_id</th>\n",
       "      <th>city</th>\n",
       "      <th>city_development_index</th>\n",
       "      <th>gender</th>\n",
       "      <th>relevent_experience</th>\n",
       "      <th>enrolled_university</th>\n",
       "      <th>education_level</th>\n",
       "      <th>major_discipline</th>\n",
       "      <th>experience</th>\n",
       "      <th>company_size</th>\n",
       "      <th>company_type</th>\n",
       "      <th>last_new_job</th>\n",
       "      <th>training_hours</th>\n",
       "      <th>target</th>\n",
       "    </tr>\n",
       "  </thead>\n",
       "  <tbody>\n",
       "    <tr>\n",
       "      <th>0</th>\n",
       "      <td>8949</td>\n",
       "      <td>city_103</td>\n",
       "      <td>0.920</td>\n",
       "      <td>Male</td>\n",
       "      <td>Has relevent experience</td>\n",
       "      <td>no_enrollment</td>\n",
       "      <td>Graduate</td>\n",
       "      <td>STEM</td>\n",
       "      <td>&gt;20</td>\n",
       "      <td>NaN</td>\n",
       "      <td>NaN</td>\n",
       "      <td>1</td>\n",
       "      <td>36</td>\n",
       "      <td>1.0</td>\n",
       "    </tr>\n",
       "    <tr>\n",
       "      <th>1</th>\n",
       "      <td>29725</td>\n",
       "      <td>city_40</td>\n",
       "      <td>0.776</td>\n",
       "      <td>Male</td>\n",
       "      <td>No relevent experience</td>\n",
       "      <td>no_enrollment</td>\n",
       "      <td>Graduate</td>\n",
       "      <td>STEM</td>\n",
       "      <td>15</td>\n",
       "      <td>50-99</td>\n",
       "      <td>Pvt Ltd</td>\n",
       "      <td>&gt;4</td>\n",
       "      <td>47</td>\n",
       "      <td>0.0</td>\n",
       "    </tr>\n",
       "    <tr>\n",
       "      <th>2</th>\n",
       "      <td>11561</td>\n",
       "      <td>city_21</td>\n",
       "      <td>0.624</td>\n",
       "      <td>NaN</td>\n",
       "      <td>No relevent experience</td>\n",
       "      <td>Full time course</td>\n",
       "      <td>Graduate</td>\n",
       "      <td>STEM</td>\n",
       "      <td>5</td>\n",
       "      <td>NaN</td>\n",
       "      <td>NaN</td>\n",
       "      <td>never</td>\n",
       "      <td>83</td>\n",
       "      <td>0.0</td>\n",
       "    </tr>\n",
       "    <tr>\n",
       "      <th>3</th>\n",
       "      <td>33241</td>\n",
       "      <td>city_115</td>\n",
       "      <td>0.789</td>\n",
       "      <td>NaN</td>\n",
       "      <td>No relevent experience</td>\n",
       "      <td>NaN</td>\n",
       "      <td>Graduate</td>\n",
       "      <td>Business Degree</td>\n",
       "      <td>&lt;1</td>\n",
       "      <td>NaN</td>\n",
       "      <td>Pvt Ltd</td>\n",
       "      <td>never</td>\n",
       "      <td>52</td>\n",
       "      <td>1.0</td>\n",
       "    </tr>\n",
       "    <tr>\n",
       "      <th>4</th>\n",
       "      <td>666</td>\n",
       "      <td>city_162</td>\n",
       "      <td>0.767</td>\n",
       "      <td>Male</td>\n",
       "      <td>Has relevent experience</td>\n",
       "      <td>no_enrollment</td>\n",
       "      <td>Masters</td>\n",
       "      <td>STEM</td>\n",
       "      <td>&gt;20</td>\n",
       "      <td>50-99</td>\n",
       "      <td>Funded Startup</td>\n",
       "      <td>4</td>\n",
       "      <td>8</td>\n",
       "      <td>0.0</td>\n",
       "    </tr>\n",
       "    <tr>\n",
       "      <th>...</th>\n",
       "      <td>...</td>\n",
       "      <td>...</td>\n",
       "      <td>...</td>\n",
       "      <td>...</td>\n",
       "      <td>...</td>\n",
       "      <td>...</td>\n",
       "      <td>...</td>\n",
       "      <td>...</td>\n",
       "      <td>...</td>\n",
       "      <td>...</td>\n",
       "      <td>...</td>\n",
       "      <td>...</td>\n",
       "      <td>...</td>\n",
       "      <td>...</td>\n",
       "    </tr>\n",
       "    <tr>\n",
       "      <th>19153</th>\n",
       "      <td>7386</td>\n",
       "      <td>city_173</td>\n",
       "      <td>0.878</td>\n",
       "      <td>Male</td>\n",
       "      <td>No relevent experience</td>\n",
       "      <td>no_enrollment</td>\n",
       "      <td>Graduate</td>\n",
       "      <td>Humanities</td>\n",
       "      <td>14</td>\n",
       "      <td>NaN</td>\n",
       "      <td>NaN</td>\n",
       "      <td>1</td>\n",
       "      <td>42</td>\n",
       "      <td>1.0</td>\n",
       "    </tr>\n",
       "    <tr>\n",
       "      <th>19154</th>\n",
       "      <td>31398</td>\n",
       "      <td>city_103</td>\n",
       "      <td>0.920</td>\n",
       "      <td>Male</td>\n",
       "      <td>Has relevent experience</td>\n",
       "      <td>no_enrollment</td>\n",
       "      <td>Graduate</td>\n",
       "      <td>STEM</td>\n",
       "      <td>14</td>\n",
       "      <td>NaN</td>\n",
       "      <td>NaN</td>\n",
       "      <td>4</td>\n",
       "      <td>52</td>\n",
       "      <td>1.0</td>\n",
       "    </tr>\n",
       "    <tr>\n",
       "      <th>19155</th>\n",
       "      <td>24576</td>\n",
       "      <td>city_103</td>\n",
       "      <td>0.920</td>\n",
       "      <td>Male</td>\n",
       "      <td>Has relevent experience</td>\n",
       "      <td>no_enrollment</td>\n",
       "      <td>Graduate</td>\n",
       "      <td>STEM</td>\n",
       "      <td>&gt;20</td>\n",
       "      <td>50-99</td>\n",
       "      <td>Pvt Ltd</td>\n",
       "      <td>4</td>\n",
       "      <td>44</td>\n",
       "      <td>0.0</td>\n",
       "    </tr>\n",
       "    <tr>\n",
       "      <th>19156</th>\n",
       "      <td>5756</td>\n",
       "      <td>city_65</td>\n",
       "      <td>0.802</td>\n",
       "      <td>Male</td>\n",
       "      <td>Has relevent experience</td>\n",
       "      <td>no_enrollment</td>\n",
       "      <td>High School</td>\n",
       "      <td>NaN</td>\n",
       "      <td>&lt;1</td>\n",
       "      <td>500-999</td>\n",
       "      <td>Pvt Ltd</td>\n",
       "      <td>2</td>\n",
       "      <td>97</td>\n",
       "      <td>0.0</td>\n",
       "    </tr>\n",
       "    <tr>\n",
       "      <th>19157</th>\n",
       "      <td>23834</td>\n",
       "      <td>city_67</td>\n",
       "      <td>0.855</td>\n",
       "      <td>NaN</td>\n",
       "      <td>No relevent experience</td>\n",
       "      <td>no_enrollment</td>\n",
       "      <td>Primary School</td>\n",
       "      <td>NaN</td>\n",
       "      <td>2</td>\n",
       "      <td>NaN</td>\n",
       "      <td>NaN</td>\n",
       "      <td>1</td>\n",
       "      <td>127</td>\n",
       "      <td>0.0</td>\n",
       "    </tr>\n",
       "  </tbody>\n",
       "</table>\n",
       "<p>19158 rows × 14 columns</p>\n",
       "</div>"
      ],
      "text/plain": [
       "       enrollee_id      city  city_development_index gender  \\\n",
       "0             8949  city_103                   0.920   Male   \n",
       "1            29725   city_40                   0.776   Male   \n",
       "2            11561   city_21                   0.624    NaN   \n",
       "3            33241  city_115                   0.789    NaN   \n",
       "4              666  city_162                   0.767   Male   \n",
       "...            ...       ...                     ...    ...   \n",
       "19153         7386  city_173                   0.878   Male   \n",
       "19154        31398  city_103                   0.920   Male   \n",
       "19155        24576  city_103                   0.920   Male   \n",
       "19156         5756   city_65                   0.802   Male   \n",
       "19157        23834   city_67                   0.855    NaN   \n",
       "\n",
       "           relevent_experience enrolled_university education_level  \\\n",
       "0      Has relevent experience       no_enrollment        Graduate   \n",
       "1       No relevent experience       no_enrollment        Graduate   \n",
       "2       No relevent experience    Full time course        Graduate   \n",
       "3       No relevent experience                 NaN        Graduate   \n",
       "4      Has relevent experience       no_enrollment         Masters   \n",
       "...                        ...                 ...             ...   \n",
       "19153   No relevent experience       no_enrollment        Graduate   \n",
       "19154  Has relevent experience       no_enrollment        Graduate   \n",
       "19155  Has relevent experience       no_enrollment        Graduate   \n",
       "19156  Has relevent experience       no_enrollment     High School   \n",
       "19157   No relevent experience       no_enrollment  Primary School   \n",
       "\n",
       "      major_discipline experience company_size    company_type last_new_job  \\\n",
       "0                 STEM        >20          NaN             NaN            1   \n",
       "1                 STEM         15        50-99         Pvt Ltd           >4   \n",
       "2                 STEM          5          NaN             NaN        never   \n",
       "3      Business Degree         <1          NaN         Pvt Ltd        never   \n",
       "4                 STEM        >20        50-99  Funded Startup            4   \n",
       "...                ...        ...          ...             ...          ...   \n",
       "19153       Humanities         14          NaN             NaN            1   \n",
       "19154             STEM         14          NaN             NaN            4   \n",
       "19155             STEM        >20        50-99         Pvt Ltd            4   \n",
       "19156              NaN         <1      500-999         Pvt Ltd            2   \n",
       "19157              NaN          2          NaN             NaN            1   \n",
       "\n",
       "       training_hours  target  \n",
       "0                  36     1.0  \n",
       "1                  47     0.0  \n",
       "2                  83     0.0  \n",
       "3                  52     1.0  \n",
       "4                   8     0.0  \n",
       "...               ...     ...  \n",
       "19153              42     1.0  \n",
       "19154              52     1.0  \n",
       "19155              44     0.0  \n",
       "19156              97     0.0  \n",
       "19157             127     0.0  \n",
       "\n",
       "[19158 rows x 14 columns]"
      ]
     },
     "execution_count": 8,
     "metadata": {},
     "output_type": "execute_result"
    }
   ],
   "source": [
    "data"
   ]
  },
  {
   "cell_type": "code",
   "execution_count": 9,
   "id": "cb191fd2",
   "metadata": {},
   "outputs": [],
   "source": [
    "# Se dropea la columna enrollee_id ya que no aporta información\n",
    "data.drop([\"enrollee_id\"], axis=1, inplace=True)"
   ]
  },
  {
   "cell_type": "code",
   "execution_count": null,
   "id": "1d7da201",
   "metadata": {},
   "outputs": [],
   "source": [
    "#  Se genera un reporte del dataset\n",
    "data_report = ProfileReport(data)\n",
    "data_report"
   ]
  },
  {
   "cell_type": "code",
   "execution_count": 10,
   "id": "9920b7b6",
   "metadata": {},
   "outputs": [
    {
     "name": "stdout",
     "output_type": "stream",
     "text": [
      "<class 'pandas.core.frame.DataFrame'>\n",
      "RangeIndex: 19158 entries, 0 to 19157\n",
      "Data columns (total 13 columns):\n",
      " #   Column                  Non-Null Count  Dtype  \n",
      "---  ------                  --------------  -----  \n",
      " 0   city                    19158 non-null  object \n",
      " 1   city_development_index  19158 non-null  float64\n",
      " 2   gender                  14650 non-null  object \n",
      " 3   relevent_experience     19158 non-null  object \n",
      " 4   enrolled_university     18772 non-null  object \n",
      " 5   education_level         18698 non-null  object \n",
      " 6   major_discipline        16345 non-null  object \n",
      " 7   experience              19093 non-null  object \n",
      " 8   company_size            13220 non-null  object \n",
      " 9   company_type            13018 non-null  object \n",
      " 10  last_new_job            18735 non-null  object \n",
      " 11  training_hours          19158 non-null  int64  \n",
      " 12  target                  19158 non-null  float64\n",
      "dtypes: float64(2), int64(1), object(10)\n",
      "memory usage: 1.9+ MB\n"
     ]
    }
   ],
   "source": [
    "data.info()"
   ]
  },
  {
   "cell_type": "code",
   "execution_count": 11,
   "id": "8858f620",
   "metadata": {},
   "outputs": [
    {
     "name": "stdout",
     "output_type": "stream",
     "text": [
      "Unique Values of city\n",
      "['city_103' 'city_40' 'city_21' 'city_115' 'city_162' 'city_176'\n",
      " 'city_160' 'city_46' 'city_61' 'city_114' 'city_13' 'city_159' 'city_102'\n",
      " 'city_67' 'city_100' 'city_16' 'city_71' 'city_104' 'city_64' 'city_101'\n",
      " 'city_83' 'city_105' 'city_73' 'city_75' 'city_41' 'city_11' 'city_93'\n",
      " 'city_90' 'city_36' 'city_20' 'city_57' 'city_152' 'city_19' 'city_65'\n",
      " 'city_74' 'city_173' 'city_136' 'city_98' 'city_97' 'city_50' 'city_138'\n",
      " 'city_82' 'city_157' 'city_89' 'city_150' 'city_70' 'city_175' 'city_94'\n",
      " 'city_28' 'city_59' 'city_165' 'city_145' 'city_142' 'city_26' 'city_12'\n",
      " 'city_37' 'city_43' 'city_116' 'city_23' 'city_99' 'city_149' 'city_10'\n",
      " 'city_45' 'city_80' 'city_128' 'city_158' 'city_123' 'city_7' 'city_72'\n",
      " 'city_106' 'city_143' 'city_78' 'city_109' 'city_24' 'city_134' 'city_48'\n",
      " 'city_144' 'city_91' 'city_146' 'city_133' 'city_126' 'city_118' 'city_9'\n",
      " 'city_167' 'city_27' 'city_84' 'city_54' 'city_39' 'city_79' 'city_76'\n",
      " 'city_77' 'city_81' 'city_131' 'city_44' 'city_117' 'city_155' 'city_33'\n",
      " 'city_141' 'city_127' 'city_62' 'city_53' 'city_25' 'city_2' 'city_69'\n",
      " 'city_120' 'city_111' 'city_30' 'city_1' 'city_140' 'city_179' 'city_55'\n",
      " 'city_14' 'city_42' 'city_107' 'city_18' 'city_139' 'city_180' 'city_166'\n",
      " 'city_121' 'city_129' 'city_8' 'city_31' 'city_171']\n",
      "==========================================================================\n",
      "Unique Values of gender\n",
      "['Male' nan 'Female' 'Other']\n",
      "==========================================================================\n",
      "Unique Values of relevent_experience\n",
      "['Has relevent experience' 'No relevent experience']\n",
      "==========================================================================\n",
      "Unique Values of enrolled_university\n",
      "['no_enrollment' 'Full time course' nan 'Part time course']\n",
      "==========================================================================\n",
      "Unique Values of education_level\n",
      "['Graduate' 'Masters' 'High School' nan 'Phd' 'Primary School']\n",
      "==========================================================================\n",
      "Unique Values of major_discipline\n",
      "['STEM' 'Business Degree' nan 'Arts' 'Humanities' 'No Major' 'Other']\n",
      "==========================================================================\n",
      "Unique Values of experience\n",
      "['>20' '15' '5' '<1' '11' '13' '7' '17' '2' '16' '1' '4' '10' '14' '18'\n",
      " '19' '12' '3' '6' '9' '8' '20' nan]\n",
      "==========================================================================\n",
      "Unique Values of company_size\n",
      "[nan '50-99' '<10' '10000+' '5000-9999' '1000-4999' '10/49' '100-500'\n",
      " '500-999']\n",
      "==========================================================================\n",
      "Unique Values of company_type\n",
      "[nan 'Pvt Ltd' 'Funded Startup' 'Early Stage Startup' 'Other'\n",
      " 'Public Sector' 'NGO']\n",
      "==========================================================================\n",
      "Unique Values of last_new_job\n",
      "['1' '>4' 'never' '4' '3' '2' nan]\n",
      "==========================================================================\n"
     ]
    }
   ],
   "source": [
    "# Se imprimen valores unicos de variables categoricas\n",
    "categorical_cols = [c for c in data.columns if data[c].dtype == 'object']\n",
    "for col in categorical_cols:\n",
    "    print(f\"Unique Values of {col}\")\n",
    "    print(data[col].unique())\n",
    "    print(\"==========================================================================\")"
   ]
  },
  {
   "cell_type": "markdown",
   "id": "c21877b9",
   "metadata": {},
   "source": [
    "# Analisis de datos con target 1 y datos con target 0"
   ]
  },
  {
   "cell_type": "code",
   "execution_count": 12,
   "id": "348e5929",
   "metadata": {},
   "outputs": [],
   "source": [
    "data_1 = data[data.target == 1]\n",
    "data_0 = data[data.target == 0]"
   ]
  },
  {
   "cell_type": "code",
   "execution_count": 13,
   "id": "772fb75f",
   "metadata": {},
   "outputs": [
    {
     "name": "stdout",
     "output_type": "stream",
     "text": [
      "city                         0\n",
      "city_development_index       0\n",
      "gender                    1389\n",
      "relevent_experience          0\n",
      "enrolled_university        123\n",
      "education_level            104\n",
      "major_discipline           549\n",
      "experience                  23\n",
      "company_size              2410\n",
      "company_type              2384\n",
      "last_new_job               154\n",
      "training_hours               0\n",
      "target                       0\n",
      "dtype: int64\n"
     ]
    }
   ],
   "source": [
    "print(data_1.isnull().sum()) "
   ]
  },
  {
   "cell_type": "code",
   "execution_count": 14,
   "id": "a5dd91d0",
   "metadata": {},
   "outputs": [
    {
     "name": "stdout",
     "output_type": "stream",
     "text": [
      "city                         0\n",
      "city_development_index       0\n",
      "gender                    3119\n",
      "relevent_experience          0\n",
      "enrolled_university        263\n",
      "education_level            356\n",
      "major_discipline          2264\n",
      "experience                  42\n",
      "company_size              3528\n",
      "company_type              3756\n",
      "last_new_job               269\n",
      "training_hours               0\n",
      "target                       0\n",
      "dtype: int64\n"
     ]
    }
   ],
   "source": [
    "print(data_0.isnull().sum())"
   ]
  },
  {
   "cell_type": "markdown",
   "id": "f299b541",
   "metadata": {},
   "source": [
    "## Dealing with missing values"
   ]
  },
  {
   "cell_type": "code",
   "execution_count": 15,
   "id": "2744ac92",
   "metadata": {},
   "outputs": [
    {
     "data": {
      "text/plain": [
       "city                      0.000000\n",
       "city_development_index    0.000000\n",
       "gender                    0.235306\n",
       "relevent_experience       0.000000\n",
       "enrolled_university       0.020148\n",
       "education_level           0.024011\n",
       "major_discipline          0.146832\n",
       "experience                0.003393\n",
       "company_size              0.309949\n",
       "company_type              0.320493\n",
       "last_new_job              0.022080\n",
       "training_hours            0.000000\n",
       "target                    0.000000\n",
       "dtype: float64"
      ]
     },
     "execution_count": 15,
     "metadata": {},
     "output_type": "execute_result"
    }
   ],
   "source": [
    "data.isnull().sum()/(data.shape[0])"
   ]
  },
  {
   "cell_type": "markdown",
   "id": "5bcb741c",
   "metadata": {},
   "source": [
    "# **Impputar en test solo con datos de train pero no esta realizado todavia, despues hacerlo** **ver si lo pongnemos en pipeline al data wranglin o solo ponemos al preprocesamiento**"
   ]
  },
  {
   "cell_type": "markdown",
   "id": "f8959b3b",
   "metadata": {},
   "source": [
    "## Instancias con mas de 3 valores nulos **Asi como hay una clase para dropear columnas ver si hay una clase para dropear filas**"
   ]
  },
  {
   "cell_type": "code",
   "execution_count": 16,
   "id": "7653c2f5",
   "metadata": {},
   "outputs": [
    {
     "name": "stdout",
     "output_type": "stream",
     "text": [
      "Cantidad de instancias previa eliminación:  19158\n",
      "Cantidad de instancias a eliminar:  878\n",
      "Cantidad de instancias post eliminación:  18280\n"
     ]
    }
   ],
   "source": [
    "# Se eliminan las instancias con 4 o más valores nulos\n",
    "print(\"Cantidad de instancias previa eliminación: \", data.shape[0])\n",
    "print(\"Cantidad de instancias a eliminar: \", data[data.isnull().sum(axis=1) > 3].shape[0] )\n",
    "\n",
    "data = data[data.isnull().sum(axis=1) < 4]\n",
    "\n",
    "print(\"Cantidad de instancias post eliminación: \", data.shape[0])"
   ]
  },
  {
   "cell_type": "markdown",
   "id": "6d70117c",
   "metadata": {},
   "source": [
    "## Imputación de Company Size"
   ]
  },
  {
   "cell_type": "code",
   "execution_count": null,
   "id": "be409ecc",
   "metadata": {},
   "outputs": [],
   "source": [
    "data.isnull().sum() "
   ]
  },
  {
   "cell_type": "code",
   "execution_count": null,
   "id": "b286457f",
   "metadata": {},
   "outputs": [],
   "source": [
    "data_null_size =data[data.company_size.isnull()]\n",
    "data_null_size.company_type.value_counts()"
   ]
  },
  {
   "cell_type": "code",
   "execution_count": null,
   "id": "21b5e9d8",
   "metadata": {},
   "outputs": [],
   "source": [
    "data[\"company_size\"] = data.groupby([\"company_type\"], sort=False)[\"company_size\"].apply(lambda x: x.fillna(x.agg(pd.Series.mode)))"
   ]
  },
  {
   "cell_type": "code",
   "execution_count": null,
   "id": "1b2001f6",
   "metadata": {},
   "outputs": [],
   "source": [
    "data.isnull().sum()"
   ]
  },
  {
   "cell_type": "code",
   "execution_count": null,
   "id": "f187d10a",
   "metadata": {},
   "outputs": [],
   "source": [
    "# Se realiza un groupby para obtener la media de surface_covered_in_m2 en funcion de property_type , state_name y rooms\n",
    "data_surfaces_imput_groupby = data.groupby(by = [\"company_type\"], sort=False)[\"company_size\"].agg(pd.Series.mode)\n",
    "data_surfaces_imput_groupby"
   ]
  },
  {
   "cell_type": "markdown",
   "id": "9225be8e",
   "metadata": {},
   "source": [
    "# Separación en Train y Test"
   ]
  },
  {
   "cell_type": "code",
   "execution_count": 17,
   "id": "10e65448",
   "metadata": {},
   "outputs": [
    {
     "name": "stdout",
     "output_type": "stream",
     "text": [
      "18280\n",
      "8955\n"
     ]
    }
   ],
   "source": [
    "# Para probarlo dropeo todos los nulos despues sacar esto\n",
    "print(data.shape[0])\n",
    "data.dropna(inplace=True)\n",
    "print(data.shape[0])"
   ]
  },
  {
   "cell_type": "code",
   "execution_count": 18,
   "id": "e72bbe8e",
   "metadata": {},
   "outputs": [],
   "source": [
    "# Selección de variable targuet\n",
    "y = data.target\n",
    "# Selección de features\n",
    "X = data.drop([\"target\"], axis = 1)"
   ]
  },
  {
   "cell_type": "code",
   "execution_count": 19,
   "id": "822f34fe",
   "metadata": {},
   "outputs": [],
   "source": [
    "# Separació en train y test\n",
    "X_train, X_test, y_train, y_test = train_test_split(X, y, test_size = 0.2, random_state = 161, stratify= y)"
   ]
  },
  {
   "cell_type": "code",
   "execution_count": 20,
   "id": "ac853047",
   "metadata": {},
   "outputs": [
    {
     "data": {
      "text/plain": [
       "0.0    0.83445\n",
       "1.0    0.16555\n",
       "Name: target, dtype: float64"
      ]
     },
     "metadata": {},
     "output_type": "display_data"
    },
    {
     "data": {
      "text/plain": [
       "0.0    0.834171\n",
       "1.0    0.165829\n",
       "Name: target, dtype: float64"
      ]
     },
     "metadata": {},
     "output_type": "display_data"
    }
   ],
   "source": [
    "# Verificación de distribución de variable targuet en train y test\n",
    "display(y_train.value_counts(normalize=True))\n",
    "display(y_test.value_counts(normalize=True))"
   ]
  },
  {
   "cell_type": "code",
   "execution_count": 21,
   "id": "9e8396f8",
   "metadata": {},
   "outputs": [],
   "source": [
    "from sklearn import preprocessing\n",
    "\n",
    "# Transformación de variable targuet categórica en numérica\n",
    "le = preprocessing.LabelEncoder()\n",
    "y_train = le.fit_transform(y_train)\n",
    "y_test = le.transform(y_test)"
   ]
  },
  {
   "cell_type": "markdown",
   "id": "55f60dc6",
   "metadata": {},
   "source": [
    "## Imputación por moda (en notebook prueba esta la imputacion por moda de sklearn)"
   ]
  },
  {
   "cell_type": "code",
   "execution_count": 27,
   "id": "f5a977ae-0a8f-4737-b346-7aa85994c368",
   "metadata": {},
   "outputs": [],
   "source": [
    "from sklearn.impute import SimpleImputer\n",
    "\n",
    "#setting strategy to 'mode' to impute by the mode\n",
    "mode_imputer = SimpleImputer(strategy='most_frequent')# strategy can also be mean or median \n",
    "\n",
    "cols_impute_mode = [\"enrolled_university\", \"education_level\", \"experience\", \"last_new_job\"]\n",
    "\n",
    "X_train_impute_mode = X_train[cols_impute_mode]\n",
    "X_train_impute_mode_encoder = mode_imputer.fit_transform(X_train_impute_mode)\n",
    "\n",
    "X_test_impute_mode = X_test[cols_impute_mode]\n",
    "X_test_impute_mode_encoder = mode_imputer.transform(X_test_impute_mode)"
   ]
  },
  {
   "cell_type": "markdown",
   "id": "4d0e0c8f",
   "metadata": {},
   "source": [
    "# Transformación de variables categóricas en numéricas"
   ]
  },
  {
   "cell_type": "markdown",
   "id": "97e9da85",
   "metadata": {},
   "source": [
    "## Variables categoricas ordinales"
   ]
  },
  {
   "cell_type": "code",
   "execution_count": 28,
   "id": "0b873a06",
   "metadata": {},
   "outputs": [],
   "source": [
    "relevent_experience = [ \"No relevent experience\", \"Has relevent experience\"]\n",
    "enrolled_university = [\"no_enrollment\", \"Part time course\", \"Full time course\"]\n",
    "education_level = [\"Primary School\", \"High School\", \"Graduate\",  \"Masters\", \"Phd\"]\n",
    "experience = [\"<1\", \"1\", \"2\", \"3\", \"4\", \"5\", \"6\", \"7\", \"8\", \"9\", \"10\", \"11\", \"12\", \"13\", \"14\", \"15\", \"16\", \"17\", \"18\", \"19\", \"20\", \">20\"]\n",
    "company_size = [\"<10\", \"10/49\", \"50-99\", \"100-500\", \"500-999\", \"1000-4999\", \"5000-9999\", \"10000+\"]\n",
    "last_new_job = [\"never\", \"1\", \"2\", \"3\", \"4\", \">4\"]"
   ]
  },
  {
   "cell_type": "code",
   "execution_count": 29,
   "id": "cae771cf",
   "metadata": {},
   "outputs": [
    {
     "data": {
      "text/plain": [
       "array([[ 1.,  0.,  3., 19.,  0.,  1.],\n",
       "       [ 1.,  0.,  2., 11.,  2.,  0.],\n",
       "       [ 1.,  0.,  2.,  6.,  2.,  1.],\n",
       "       ...,\n",
       "       [ 1.,  0.,  2.,  7.,  3.,  2.],\n",
       "       [ 1.,  0.,  2., 20.,  5.,  3.],\n",
       "       [ 1.,  0.,  3., 21.,  3.,  5.]])"
      ]
     },
     "execution_count": 29,
     "metadata": {},
     "output_type": "execute_result"
    }
   ],
   "source": [
    "from sklearn.preprocessing import OrdinalEncoder\n",
    "\n",
    "ordinal_encoder = OrdinalEncoder(categories = [relevent_experience, enrolled_university, education_level, experience, company_size, last_new_job])\n",
    "\n",
    "columns_ordinal_categorical = [\"relevent_experience\", \"enrolled_university\", \"education_level\", \"experience\", \"company_size\", \"last_new_job\"]\n",
    "\n",
    "X_train_ordinal = X_train[columns_ordinal_categorical]\n",
    "X_train_ordinal_encoder = ordinal_encoder.fit_transform(X_train_ordinal)\n",
    "\n",
    "X_test_ordinal = X_test[columns_ordinal_categorical]\n",
    "X_test_ordinal_encoder = ordinal_encoder.transform(X_test_ordinal)"
   ]
  },
  {
   "cell_type": "markdown",
   "id": "3533b7ff",
   "metadata": {},
   "source": [
    "## Variables categoricas nominales"
   ]
  },
  {
   "cell_type": "code",
   "execution_count": 31,
   "id": "d3e4b87e",
   "metadata": {},
   "outputs": [
    {
     "data": {
      "text/plain": [
       "<1906x15 sparse matrix of type '<class 'numpy.float64'>'\n",
       "\twith 5718 stored elements in Compressed Sparse Row format>"
      ]
     },
     "execution_count": 31,
     "metadata": {},
     "output_type": "execute_result"
    }
   ],
   "source": [
    "from sklearn.preprocessing import OneHotEncoder\n",
    "\n",
    "columns_nominal_categorical = [\"gender\", \"major_discipline\", \"company_type\"]\n",
    "nominal_encoder = OneHotEncoder()\n",
    "\n",
    "X_train_nominal = X_train [columns_nominal_categorical]\n",
    "X_train_nominal_encoder = nominal_encoder.fit_transform(X_train_nominal)\n",
    "\n",
    "X_test_nominal = X_test [columns_nominal_categorical]\n",
    "X_test_nominal_encoder = nominal_encoder.fit_transform(X_test_nominal)"
   ]
  },
  {
   "cell_type": "markdown",
   "id": "9a8dbbc7",
   "metadata": {},
   "source": [
    "# Se exportan los datasets limpios"
   ]
  },
  {
   "cell_type": "code",
   "execution_count": null,
   "id": "07489bb1",
   "metadata": {},
   "outputs": [],
   "source": [
    "# Se exporta el dataset de train limpio\n",
    "data_train.to_csv(\"../archive/data_train_clean.csv\")"
   ]
  },
  {
   "cell_type": "code",
   "execution_count": null,
   "id": "31c71628",
   "metadata": {},
   "outputs": [],
   "source": [
    "# Se exporta el dataset de test limpio\n",
    "data_test.to_csv(\"../archive/data_test_clean.csv\")"
   ]
  }
 ],
 "metadata": {
  "kernelspec": {
   "display_name": "Python 3 (ipykernel)",
   "language": "python",
   "name": "python3"
  },
  "language_info": {
   "codemirror_mode": {
    "name": "ipython",
    "version": 3
   },
   "file_extension": ".py",
   "mimetype": "text/x-python",
   "name": "python",
   "nbconvert_exporter": "python",
   "pygments_lexer": "ipython3",
   "version": "3.9.7"
  }
 },
 "nbformat": 4,
 "nbformat_minor": 5
}
